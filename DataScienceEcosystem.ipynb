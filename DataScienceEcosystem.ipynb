{
 "cells": [
  {
   "cell_type": "markdown",
   "id": "3548e299",
   "metadata": {},
   "source": [
    "#Exercise 2: Create a markdown cell with the title Data Science Tools and Ecosystem using H1 style heading.\n",
    "\n",
    "# Data Science Tools and Ecosystem"
   ]
  },
  {
   "cell_type": "markdown",
   "id": "5280fe6b",
   "metadata": {},
   "source": [
    "#Exercise 3: Write an introductory sentence about the notebook \n",
    "\n",
    "In this notebook, Data Science Tools and Ecosystem are summarized."
   ]
  },
  {
   "cell_type": "markdown",
   "id": "a46f2783",
   "metadata": {},
   "source": [
    "#Exercise 10 - Insert a markdown cell to list Objectives\n",
    "\n",
    "**Objectives**\n",
    "- List of popular languages used in Data science\n",
    "- List of commonly used libraries in Data Science\n",
    "- Some of Data Sceince Tools\n",
    "- Examples of Arithmetic Expressions in Python"
   ]
  },
  {
   "cell_type": "markdown",
   "id": "6dc2e6fc",
   "metadata": {},
   "source": [
    "#Exercise 4 - Create a markdown cell to list data science languages\n",
    "\n",
    "Some of the popular languages that Data Scientists use are:\n",
    "\n",
    "1. Python\n",
    "2. R\n",
    "3. SQL\n",
    "4. SCALA\n",
    "5. JAVA\n",
    "6. Julia"
   ]
  },
  {
   "cell_type": "markdown",
   "id": "85372326",
   "metadata": {},
   "source": [
    "#Exercise 5 - Create a markdown cell to list data science libraries\n",
    "\n",
    "Some of the commonly used libraries used by Data Scientists include:\n",
    "\n",
    "1. Pandas\n",
    "2. NumPy\n",
    "3. Matplotlib\n",
    "4. Seaborn\n",
    "5. Scikit-learn\n",
    "6. Keras\n",
    "7. TensorFlow\n",
    "8. Pytorch\n",
    "9. ggplot2\n",
    "10. Keras"
   ]
  },
  {
   "cell_type": "markdown",
   "id": "01789f2f",
   "metadata": {},
   "source": [
    "#Exercise 6 - Create a markdown cell with a table of Data Science tools\n",
    "\n",
    "| Data Science Tools |\n",
    "| - |\n",
    "| Jupyter Notebook |\n",
    "| Jupyter Lab|\n",
    "| R-Studio |\n",
    "| Apache Spark |\n",
    "| GitHub |\n",
    "| Kibana |"
   ]
  },
  {
   "cell_type": "markdown",
   "id": "996a2818",
   "metadata": {},
   "source": [
    "#Exercise 7 - Create a markdown cell introducing arithmetic expression examples\n",
    "\n",
    "### Below are a few examples of evaluating arithmetic expressions in Python"
   ]
  },
  {
   "cell_type": "code",
   "execution_count": 8,
   "id": "4250d7ed",
   "metadata": {},
   "outputs": [
    {
     "data": {
      "text/plain": [
       "17"
      ]
     },
     "execution_count": 8,
     "metadata": {},
     "output_type": "execute_result"
    }
   ],
   "source": [
    "#Exercise 8 - Create a code cell to multiply and add numbers\n",
    "#This a simple arithmetic expression to mutiply then add integers\n",
    "\n",
    "(3*4)+5"
   ]
  },
  {
   "cell_type": "code",
   "execution_count": 9,
   "id": "e2006c93",
   "metadata": {},
   "outputs": [
    {
     "name": "stdout",
     "output_type": "stream",
     "text": [
      "3 20\n",
      "3.3333333333333335\n"
     ]
    }
   ],
   "source": [
    "#Exercise 9 - Create a code cell to convert minutes to hours\n",
    "\n",
    "#The following code will convert 200 minutes to hours by dividing 200 minutes by 60\n",
    "\n",
    "hrs, minute = divmod(200 , 60) # quotient (hrs) = 200 // 60 & remainder (minute) = 200 % 60\n",
    "print(hrs , minute)\n",
    "\n",
    "#or\n",
    "\n",
    "hours = 200/60\n",
    "print(hours)"
   ]
  },
  {
   "cell_type": "markdown",
   "id": "783a73aa",
   "metadata": {},
   "source": [
    "#Exercise 11 - Create a markdown cell to indicate the Author's name\n",
    "\n",
    "## Author\n",
    "Awais Ahmad"
   ]
  }
 ],
 "metadata": {
  "kernelspec": {
   "display_name": "Python 3 (ipykernel)",
   "language": "python",
   "name": "python3"
  },
  "language_info": {
   "codemirror_mode": {
    "name": "ipython",
    "version": 3
   },
   "file_extension": ".py",
   "mimetype": "text/x-python",
   "name": "python",
   "nbconvert_exporter": "python",
   "pygments_lexer": "ipython3",
   "version": "3.11.4"
  }
 },
 "nbformat": 4,
 "nbformat_minor": 5
}
